{
 "cells": [
  {
   "cell_type": "markdown",
   "id": "42788f7a-1f3e-48d6-96de-af919da1997d",
   "metadata": {},
   "source": [
    "# **Scraping Ulasan Aplikasi Gojek pada Google Play Store**"
   ]
  },
  {
   "cell_type": "markdown",
   "id": "0ac2a89d-1074-4e13-b972-a3fdb4362af2",
   "metadata": {},
   "source": [
    "Melakukan **scraping ulasan aplikasi Gojek** dari Google Play Store menggunakan library `google-play-scraper`. Proses dimulai dengan mengimpor library yang dibutuhkan. Ulasan aplikasi Gojek diambil dengan parameter bahasa Indonesia, negara Indonesia, dan jumlah ulasan sebanyak 10.000, serta diurutkan berdasarkan relevansi. Data yang diperoleh kemudian disimpan dalam file CSV."
   ]
  },
  {
   "cell_type": "markdown",
   "id": "5f32941d-9d4a-4314-adb5-c6ad8b6ab9b0",
   "metadata": {},
   "source": [
    "- **Nama**: Muhammad Azhar Putra Nadian\n",
    "- **Email**: azharnadian@student.ub.ac.id\n",
    "- **ID Dicoding**: azharnadian\n",
    "- **Cohort ID**: MC006D5Y1335\n",
    "- **Coding Camp Email**: mc006d5y1335@student.devacademy.id"
   ]
  },
  {
   "cell_type": "markdown",
   "id": "66ae1f0d-4ac3-476e-842e-a7ebb6caccb8",
   "metadata": {},
   "source": [
    "## Import Library"
   ]
  },
  {
   "cell_type": "code",
   "execution_count": 18,
   "id": "741d1bb7-4763-4ab0-b6ea-53e28942869c",
   "metadata": {},
   "outputs": [
    {
     "name": "stdout",
     "output_type": "stream",
     "text": [
      "Requirement already satisfied: google-play-scraper in c:\\users\\azhar\\anaconda3\\lib\\site-packages (1.2.7)\n"
     ]
    }
   ],
   "source": [
    "!pip install google-play-scraper"
   ]
  },
  {
   "cell_type": "code",
   "execution_count": 19,
   "id": "171a66ca-057c-4151-a25e-981d9d0ee216",
   "metadata": {},
   "outputs": [],
   "source": [
    "from google_play_scraper import app, reviews_all, Sort\n",
    "import pandas as pd\n",
    "pd.options.mode.chained_assignment = None\n",
    "import numpy as np\n",
    "import csv"
   ]
  },
  {
   "cell_type": "code",
   "execution_count": 20,
   "id": "33154490-fdad-430b-9a78-1756111b422e",
   "metadata": {},
   "outputs": [],
   "source": [
    "seed = 0\n",
    "np.random.seed(seed)"
   ]
  },
  {
   "cell_type": "markdown",
   "id": "69447647-306a-4a7f-8654-63d3f1849a2b",
   "metadata": {},
   "source": [
    "## Scraping Dataset Ulasan Aplikasi Gojek di Play Store"
   ]
  },
  {
   "cell_type": "code",
   "execution_count": 25,
   "id": "58cab327-381a-44be-903f-152480dd9a43",
   "metadata": {},
   "outputs": [],
   "source": [
    "scrapreview = reviews_all(\n",
    "    'com.gojek.app',  # ID aplikasi Gojek di Play Store\n",
    "    lang='id',\n",
    "    country='id',\n",
    "    sort=Sort.MOST_RELEVANT,\n",
    "    count=10000\n",
    ")"
   ]
  },
  {
   "cell_type": "markdown",
   "id": "b5404cdd-cecd-4781-b3c1-bee65432fcb0",
   "metadata": {},
   "source": [
    "## Load Dataset"
   ]
  },
  {
   "cell_type": "code",
   "execution_count": 26,
   "id": "2db79c19-4d4a-47be-98fc-918d80e24d4c",
   "metadata": {},
   "outputs": [],
   "source": [
    "with open('ulasan_gojek.csv', mode='w', newline='', encoding='utf-8') as file:\n",
    "    writer = csv.writer(file)\n",
    "    writer.writerow(['Review'])  # Header kolom\n",
    "    for review in scrapreview:\n",
    "        writer.writerow([review['content']])"
   ]
  },
  {
   "cell_type": "code",
   "execution_count": 27,
   "id": "1913e18a-ce19-4810-96b9-bf67b3032cb3",
   "metadata": {},
   "outputs": [
    {
     "name": "stdout",
     "output_type": "stream",
     "text": [
      "(90000, 11)\n"
     ]
    },
    {
     "data": {
      "text/html": [
       "<div>\n",
       "<style scoped>\n",
       "    .dataframe tbody tr th:only-of-type {\n",
       "        vertical-align: middle;\n",
       "    }\n",
       "\n",
       "    .dataframe tbody tr th {\n",
       "        vertical-align: top;\n",
       "    }\n",
       "\n",
       "    .dataframe thead th {\n",
       "        text-align: right;\n",
       "    }\n",
       "</style>\n",
       "<table border=\"1\" class=\"dataframe\">\n",
       "  <thead>\n",
       "    <tr style=\"text-align: right;\">\n",
       "      <th></th>\n",
       "      <th>reviewId</th>\n",
       "      <th>userName</th>\n",
       "      <th>userImage</th>\n",
       "      <th>content</th>\n",
       "      <th>score</th>\n",
       "      <th>thumbsUpCount</th>\n",
       "      <th>reviewCreatedVersion</th>\n",
       "      <th>at</th>\n",
       "      <th>replyContent</th>\n",
       "      <th>repliedAt</th>\n",
       "      <th>appVersion</th>\n",
       "    </tr>\n",
       "  </thead>\n",
       "  <tbody>\n",
       "    <tr>\n",
       "      <th>0</th>\n",
       "      <td>595da86c-acc1-4a64-ae43-90ff85eaf53d</td>\n",
       "      <td>Pengguna Google</td>\n",
       "      <td>https://play-lh.googleusercontent.com/EGemoI2N...</td>\n",
       "      <td>terlalu terlalu terlalu... apk yg tidak bisa d...</td>\n",
       "      <td>1</td>\n",
       "      <td>1</td>\n",
       "      <td>4.31.1</td>\n",
       "      <td>2022-04-21 20:37:07</td>\n",
       "      <td>Hai, mohon maaf atas kendala yang kamu alami. ...</td>\n",
       "      <td>2022-04-22 08:33:31</td>\n",
       "      <td>4.31.1</td>\n",
       "    </tr>\n",
       "    <tr>\n",
       "      <th>1</th>\n",
       "      <td>7874a624-ec35-4b2f-8b1b-d34e160c5180</td>\n",
       "      <td>Pengguna Google</td>\n",
       "      <td>https://play-lh.googleusercontent.com/EGemoI2N...</td>\n",
       "      <td>pesan go food dengan estimasi awal 30-40 menit...</td>\n",
       "      <td>1</td>\n",
       "      <td>22</td>\n",
       "      <td>5.16.3</td>\n",
       "      <td>2025-04-11 20:18:06</td>\n",
       "      <td>Hai Kak Afiifah, mohon maaf atas ketidaknyaman...</td>\n",
       "      <td>2025-04-11 21:39:05</td>\n",
       "      <td>5.16.3</td>\n",
       "    </tr>\n",
       "    <tr>\n",
       "      <th>2</th>\n",
       "      <td>606f946d-2bab-4c43-9b20-429a679a8fe0</td>\n",
       "      <td>Pengguna Google</td>\n",
       "      <td>https://play-lh.googleusercontent.com/EGemoI2N...</td>\n",
       "      <td>aplikasi ga jelas, sering banget gofood udh nu...</td>\n",
       "      <td>1</td>\n",
       "      <td>62</td>\n",
       "      <td>5.15.1</td>\n",
       "      <td>2025-04-03 22:04:48</td>\n",
       "      <td>Hai Kak Andreas, mohon maaf atas ketidaknyaman...</td>\n",
       "      <td>2025-04-04 09:40:35</td>\n",
       "      <td>5.15.1</td>\n",
       "    </tr>\n",
       "    <tr>\n",
       "      <th>3</th>\n",
       "      <td>46c3b900-0136-4fbf-91a0-c3f73d661fac</td>\n",
       "      <td>Pengguna Google</td>\n",
       "      <td>https://play-lh.googleusercontent.com/EGemoI2N...</td>\n",
       "      <td>sebagai pengguna lama baru kali ini saya kecew...</td>\n",
       "      <td>1</td>\n",
       "      <td>36</td>\n",
       "      <td>5.14.2</td>\n",
       "      <td>2025-04-07 14:25:32</td>\n",
       "      <td>Hai Kak Harliani, mohon maaf atas ketidaknyama...</td>\n",
       "      <td>2025-04-07 15:59:35</td>\n",
       "      <td>5.14.2</td>\n",
       "    </tr>\n",
       "    <tr>\n",
       "      <th>4</th>\n",
       "      <td>825e4595-c073-4388-8229-415e372b6c01</td>\n",
       "      <td>Pengguna Google</td>\n",
       "      <td>https://play-lh.googleusercontent.com/EGemoI2N...</td>\n",
       "      <td>tinggal 2menit lg driver sampe di lokasi tiba-...</td>\n",
       "      <td>1</td>\n",
       "      <td>175</td>\n",
       "      <td>5.14.2</td>\n",
       "      <td>2025-03-26 07:35:56</td>\n",
       "      <td>Hai Kak Wahyu, mohon maaf atas ketidaknyamanan...</td>\n",
       "      <td>2025-03-26 11:26:47</td>\n",
       "      <td>5.14.2</td>\n",
       "    </tr>\n",
       "  </tbody>\n",
       "</table>\n",
       "</div>"
      ],
      "text/plain": [
       "                               reviewId         userName  \\\n",
       "0  595da86c-acc1-4a64-ae43-90ff85eaf53d  Pengguna Google   \n",
       "1  7874a624-ec35-4b2f-8b1b-d34e160c5180  Pengguna Google   \n",
       "2  606f946d-2bab-4c43-9b20-429a679a8fe0  Pengguna Google   \n",
       "3  46c3b900-0136-4fbf-91a0-c3f73d661fac  Pengguna Google   \n",
       "4  825e4595-c073-4388-8229-415e372b6c01  Pengguna Google   \n",
       "\n",
       "                                           userImage  \\\n",
       "0  https://play-lh.googleusercontent.com/EGemoI2N...   \n",
       "1  https://play-lh.googleusercontent.com/EGemoI2N...   \n",
       "2  https://play-lh.googleusercontent.com/EGemoI2N...   \n",
       "3  https://play-lh.googleusercontent.com/EGemoI2N...   \n",
       "4  https://play-lh.googleusercontent.com/EGemoI2N...   \n",
       "\n",
       "                                             content  score  thumbsUpCount  \\\n",
       "0  terlalu terlalu terlalu... apk yg tidak bisa d...      1              1   \n",
       "1  pesan go food dengan estimasi awal 30-40 menit...      1             22   \n",
       "2  aplikasi ga jelas, sering banget gofood udh nu...      1             62   \n",
       "3  sebagai pengguna lama baru kali ini saya kecew...      1             36   \n",
       "4  tinggal 2menit lg driver sampe di lokasi tiba-...      1            175   \n",
       "\n",
       "  reviewCreatedVersion                  at  \\\n",
       "0               4.31.1 2022-04-21 20:37:07   \n",
       "1               5.16.3 2025-04-11 20:18:06   \n",
       "2               5.15.1 2025-04-03 22:04:48   \n",
       "3               5.14.2 2025-04-07 14:25:32   \n",
       "4               5.14.2 2025-03-26 07:35:56   \n",
       "\n",
       "                                        replyContent           repliedAt  \\\n",
       "0  Hai, mohon maaf atas kendala yang kamu alami. ... 2022-04-22 08:33:31   \n",
       "1  Hai Kak Afiifah, mohon maaf atas ketidaknyaman... 2025-04-11 21:39:05   \n",
       "2  Hai Kak Andreas, mohon maaf atas ketidaknyaman... 2025-04-04 09:40:35   \n",
       "3  Hai Kak Harliani, mohon maaf atas ketidaknyama... 2025-04-07 15:59:35   \n",
       "4  Hai Kak Wahyu, mohon maaf atas ketidaknyamanan... 2025-03-26 11:26:47   \n",
       "\n",
       "  appVersion  \n",
       "0     4.31.1  \n",
       "1     5.16.3  \n",
       "2     5.15.1  \n",
       "3     5.14.2  \n",
       "4     5.14.2  "
      ]
     },
     "execution_count": 27,
     "metadata": {},
     "output_type": "execute_result"
    }
   ],
   "source": [
    "gojek_reviews_df = pd.DataFrame(scrapreview)\n",
    "\n",
    "print(gojek_reviews_df.shape)\n",
    "gojek_reviews_df.head()"
   ]
  },
  {
   "cell_type": "markdown",
   "id": "2c08115b-c8f2-42eb-adfe-4c47677a1889",
   "metadata": {},
   "source": [
    "## Menyimpan Dataframe Menjadi CSV"
   ]
  },
  {
   "cell_type": "code",
   "execution_count": 39,
   "id": "72bfc760-56be-4090-b688-e01b0352aaa7",
   "metadata": {},
   "outputs": [],
   "source": [
    "gojek_reviews_df.to_csv('ulasan_gojek_full.csv', index=False)"
   ]
  },
  {
   "cell_type": "code",
   "execution_count": 37,
   "id": "3f0ab664-bcce-48ea-8921-112f3ab33a17",
   "metadata": {},
   "outputs": [
    {
     "name": "stdout",
     "output_type": "stream",
     "text": [
      "<class 'pandas.core.frame.DataFrame'>\n",
      "RangeIndex: 90000 entries, 0 to 89999\n",
      "Data columns (total 11 columns):\n",
      " #   Column                Non-Null Count  Dtype         \n",
      "---  ------                --------------  -----         \n",
      " 0   reviewId              90000 non-null  object        \n",
      " 1   userName              90000 non-null  object        \n",
      " 2   userImage             90000 non-null  object        \n",
      " 3   content               89999 non-null  object        \n",
      " 4   score                 90000 non-null  int64         \n",
      " 5   thumbsUpCount         90000 non-null  int64         \n",
      " 6   reviewCreatedVersion  72303 non-null  object        \n",
      " 7   at                    90000 non-null  datetime64[ns]\n",
      " 8   replyContent          33205 non-null  object        \n",
      " 9   repliedAt             33205 non-null  datetime64[ns]\n",
      " 10  appVersion            72303 non-null  object        \n",
      "dtypes: datetime64[ns](2), int64(2), object(7)\n",
      "memory usage: 7.6+ MB\n"
     ]
    }
   ],
   "source": [
    "gojek_reviews_df.info()"
   ]
  }
 ],
 "metadata": {
  "kernelspec": {
   "display_name": "Python [conda env:base]",
   "language": "python",
   "name": "conda-base-py"
  },
  "language_info": {
   "codemirror_mode": {
    "name": "ipython",
    "version": 3
   },
   "file_extension": ".py",
   "mimetype": "text/x-python",
   "name": "python",
   "nbconvert_exporter": "python",
   "pygments_lexer": "ipython3",
   "version": "3.12.7"
  }
 },
 "nbformat": 4,
 "nbformat_minor": 5
}
